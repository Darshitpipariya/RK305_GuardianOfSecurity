{
 "cells": [
  {
   "cell_type": "code",
   "execution_count": 1,
   "metadata": {},
   "outputs": [],
   "source": [
    "import pandas as pd\n",
    "from sklearn.model_selection import train_test_split ,GridSearchCV\n",
    "from sklearn.metrics import precision_score, recall_score, accuracy_score,f1_score,confusion_matrix"
   ]
  },
  {
   "cell_type": "code",
   "execution_count": 2,
   "metadata": {},
   "outputs": [
    {
     "data": {
      "text/html": [
       "<div>\n",
       "<style scoped>\n",
       "    .dataframe tbody tr th:only-of-type {\n",
       "        vertical-align: middle;\n",
       "    }\n",
       "\n",
       "    .dataframe tbody tr th {\n",
       "        vertical-align: top;\n",
       "    }\n",
       "\n",
       "    .dataframe thead th {\n",
       "        text-align: right;\n",
       "    }\n",
       "</style>\n",
       "<table border=\"1\" class=\"dataframe\">\n",
       "  <thead>\n",
       "    <tr style=\"text-align: right;\">\n",
       "      <th></th>\n",
       "      <th>url</th>\n",
       "      <th>url_len</th>\n",
       "      <th>count_comma</th>\n",
       "      <th>count_semicolon</th>\n",
       "      <th>count_quotes</th>\n",
       "      <th>count_braces</th>\n",
       "      <th>count_redirects</th>\n",
       "      <th>count_pipes</th>\n",
       "      <th>count_dots</th>\n",
       "      <th>count_dash</th>\n",
       "      <th>...</th>\n",
       "      <th>count_dots_host</th>\n",
       "      <th>count_digit_host</th>\n",
       "      <th>count_non_alphanumeric_host</th>\n",
       "      <th>parameter_count</th>\n",
       "      <th>parameter_length</th>\n",
       "      <th>directory_len</th>\n",
       "      <th>digit_char_ratio</th>\n",
       "      <th>vowel_consonant_ratio</th>\n",
       "      <th>avg_len_token</th>\n",
       "      <th>label</th>\n",
       "    </tr>\n",
       "  </thead>\n",
       "  <tbody>\n",
       "    <tr>\n",
       "      <td>0</td>\n",
       "      <td>https://2bittechnology.in/js/mfilealldom/mfile...</td>\n",
       "      <td>72</td>\n",
       "      <td>0</td>\n",
       "      <td>0</td>\n",
       "      <td>0</td>\n",
       "      <td>0</td>\n",
       "      <td>0</td>\n",
       "      <td>0</td>\n",
       "      <td>1</td>\n",
       "      <td>0</td>\n",
       "      <td>...</td>\n",
       "      <td>1</td>\n",
       "      <td>1</td>\n",
       "      <td>1</td>\n",
       "      <td>0</td>\n",
       "      <td>0</td>\n",
       "      <td>55</td>\n",
       "      <td>2.3</td>\n",
       "      <td>0.241379</td>\n",
       "      <td>9.4</td>\n",
       "      <td>1</td>\n",
       "    </tr>\n",
       "    <tr>\n",
       "      <td>1</td>\n",
       "      <td>https://www.xporn.eventfreex.com/</td>\n",
       "      <td>25</td>\n",
       "      <td>0</td>\n",
       "      <td>0</td>\n",
       "      <td>0</td>\n",
       "      <td>0</td>\n",
       "      <td>0</td>\n",
       "      <td>0</td>\n",
       "      <td>3</td>\n",
       "      <td>0</td>\n",
       "      <td>...</td>\n",
       "      <td>3</td>\n",
       "      <td>1</td>\n",
       "      <td>3</td>\n",
       "      <td>0</td>\n",
       "      <td>0</td>\n",
       "      <td>1</td>\n",
       "      <td>21.0</td>\n",
       "      <td>0.315789</td>\n",
       "      <td>5.4</td>\n",
       "      <td>1</td>\n",
       "    </tr>\n",
       "    <tr>\n",
       "      <td>2</td>\n",
       "      <td>https://upapage.000webhostapp.com/set.html</td>\n",
       "      <td>34</td>\n",
       "      <td>0</td>\n",
       "      <td>0</td>\n",
       "      <td>0</td>\n",
       "      <td>0</td>\n",
       "      <td>0</td>\n",
       "      <td>0</td>\n",
       "      <td>3</td>\n",
       "      <td>0</td>\n",
       "      <td>...</td>\n",
       "      <td>2</td>\n",
       "      <td>3</td>\n",
       "      <td>2</td>\n",
       "      <td>0</td>\n",
       "      <td>0</td>\n",
       "      <td>9</td>\n",
       "      <td>9.0</td>\n",
       "      <td>0.360000</td>\n",
       "      <td>6.4</td>\n",
       "      <td>1</td>\n",
       "    </tr>\n",
       "    <tr>\n",
       "      <td>3</td>\n",
       "      <td>https://upapage.000webhostapp.com/sets.html?=1...</td>\n",
       "      <td>115</td>\n",
       "      <td>0</td>\n",
       "      <td>0</td>\n",
       "      <td>0</td>\n",
       "      <td>0</td>\n",
       "      <td>0</td>\n",
       "      <td>0</td>\n",
       "      <td>3</td>\n",
       "      <td>0</td>\n",
       "      <td>...</td>\n",
       "      <td>2</td>\n",
       "      <td>3</td>\n",
       "      <td>2</td>\n",
       "      <td>4</td>\n",
       "      <td>80</td>\n",
       "      <td>10</td>\n",
       "      <td>5.8</td>\n",
       "      <td>0.321839</td>\n",
       "      <td>14.5</td>\n",
       "      <td>1</td>\n",
       "    </tr>\n",
       "    <tr>\n",
       "      <td>4</td>\n",
       "      <td>https://f.samsung-lucky-winner.xyz/</td>\n",
       "      <td>27</td>\n",
       "      <td>0</td>\n",
       "      <td>0</td>\n",
       "      <td>0</td>\n",
       "      <td>0</td>\n",
       "      <td>0</td>\n",
       "      <td>0</td>\n",
       "      <td>2</td>\n",
       "      <td>2</td>\n",
       "      <td>...</td>\n",
       "      <td>2</td>\n",
       "      <td>1</td>\n",
       "      <td>4</td>\n",
       "      <td>0</td>\n",
       "      <td>0</td>\n",
       "      <td>1</td>\n",
       "      <td>22.0</td>\n",
       "      <td>0.227273</td>\n",
       "      <td>5.8</td>\n",
       "      <td>1</td>\n",
       "    </tr>\n",
       "  </tbody>\n",
       "</table>\n",
       "<p>5 rows × 32 columns</p>\n",
       "</div>"
      ],
      "text/plain": [
       "                                                 url  url_len  count_comma  \\\n",
       "0  https://2bittechnology.in/js/mfilealldom/mfile...       72            0   \n",
       "1                  https://www.xporn.eventfreex.com/       25            0   \n",
       "2         https://upapage.000webhostapp.com/set.html       34            0   \n",
       "3  https://upapage.000webhostapp.com/sets.html?=1...      115            0   \n",
       "4                https://f.samsung-lucky-winner.xyz/       27            0   \n",
       "\n",
       "   count_semicolon  count_quotes  count_braces  count_redirects  count_pipes  \\\n",
       "0                0             0             0                0            0   \n",
       "1                0             0             0                0            0   \n",
       "2                0             0             0                0            0   \n",
       "3                0             0             0                0            0   \n",
       "4                0             0             0                0            0   \n",
       "\n",
       "   count_dots  count_dash  ...  count_dots_host  count_digit_host  \\\n",
       "0           1           0  ...                1                 1   \n",
       "1           3           0  ...                3                 1   \n",
       "2           3           0  ...                2                 3   \n",
       "3           3           0  ...                2                 3   \n",
       "4           2           2  ...                2                 1   \n",
       "\n",
       "   count_non_alphanumeric_host  parameter_count  parameter_length  \\\n",
       "0                            1                0                 0   \n",
       "1                            3                0                 0   \n",
       "2                            2                0                 0   \n",
       "3                            2                4                80   \n",
       "4                            4                0                 0   \n",
       "\n",
       "   directory_len  digit_char_ratio  vowel_consonant_ratio  avg_len_token  \\\n",
       "0             55               2.3               0.241379            9.4   \n",
       "1              1              21.0               0.315789            5.4   \n",
       "2              9               9.0               0.360000            6.4   \n",
       "3             10               5.8               0.321839           14.5   \n",
       "4              1              22.0               0.227273            5.8   \n",
       "\n",
       "   label  \n",
       "0      1  \n",
       "1      1  \n",
       "2      1  \n",
       "3      1  \n",
       "4      1  \n",
       "\n",
       "[5 rows x 32 columns]"
      ]
     },
     "execution_count": 2,
     "metadata": {},
     "output_type": "execute_result"
    }
   ],
   "source": [
    "dataset=pd.read_csv('Featured_dataset.csv')\n",
    "dataset.head()"
   ]
  },
  {
   "cell_type": "code",
   "execution_count": 3,
   "metadata": {},
   "outputs": [
    {
     "data": {
      "text/plain": [
       "21776                  discogs.com/artist/Timothy B. Schmit\n",
       "21777                   www.codeguru.com/misc/scribml.shtml\n",
       "21778                           https://www.richsatire.com/\n",
       "21779                                   rohitjayakaran.com/\n",
       "21781     https://www.celebtv.com/annalynne-mccord-datin...\n",
       "                                ...                        \n",
       "990109    scribd.com/doc/7056611/Calculated1Betscomputer...\n",
       "990111       https://www.snjm.org/EnglishContent/mmreng.htm\n",
       "990112    vintage-erotica-forum.com/t133647-ursula-thies...\n",
       "990113                mthai.com/rushmag/variety/129133.html\n",
       "990114             https://www.facebook.com/pierre.perrault\n",
       "Name: url, Length: 731423, dtype: object"
      ]
     },
     "execution_count": 3,
     "metadata": {},
     "output_type": "execute_result"
    }
   ],
   "source": [
    "dataset[dataset['label']==0].url"
   ]
  },
  {
   "cell_type": "code",
   "execution_count": 4,
   "metadata": {},
   "outputs": [],
   "source": [
    "dataset['label']=dataset['label'].replace(1,-1)\n",
    "dataset['label']=dataset['label'].replace(0,1)"
   ]
  },
  {
   "cell_type": "code",
   "execution_count": 5,
   "metadata": {},
   "outputs": [
    {
     "data": {
      "text/plain": [
       " 1    731423\n",
       "-1    303123\n",
       "Name: label, dtype: int64"
      ]
     },
     "execution_count": 5,
     "metadata": {},
     "output_type": "execute_result"
    }
   ],
   "source": [
    "dataset['label'].value_counts()"
   ]
  },
  {
   "cell_type": "code",
   "execution_count": 6,
   "metadata": {},
   "outputs": [],
   "source": [
    "import sklearn\n",
    "dataset=sklearn.utils.shuffle(dataset)"
   ]
  },
  {
   "cell_type": "code",
   "execution_count": 7,
   "metadata": {},
   "outputs": [],
   "source": [
    "X=dataset.drop(['url','label'],axis=1)\n",
    "y=dataset.label"
   ]
  },
  {
   "cell_type": "code",
   "execution_count": null,
   "metadata": {},
   "outputs": [],
   "source": []
  },
  {
   "cell_type": "code",
   "execution_count": 8,
   "metadata": {},
   "outputs": [],
   "source": [
    "from sklearn.preprocessing import MinMaxScaler\n",
    "sc_x=MinMaxScaler()\n",
    "X_scaled=sc_x.fit_transform(X)\n"
   ]
  },
  {
   "cell_type": "code",
   "execution_count": 9,
   "metadata": {},
   "outputs": [],
   "source": [
    "X_train, X_test, y_train, y_test = train_test_split(X_scaled, y, test_size=0.02, random_state=0,stratify=y)"
   ]
  },
  {
   "cell_type": "code",
   "execution_count": 10,
   "metadata": {},
   "outputs": [
    {
     "data": {
      "text/plain": [
       "70.69985352935085"
      ]
     },
     "execution_count": 10,
     "metadata": {},
     "output_type": "execute_result"
    }
   ],
   "source": [
    "len(y_train[y_train==1])/len(y_train)*100"
   ]
  },
  {
   "cell_type": "code",
   "execution_count": 11,
   "metadata": {},
   "outputs": [
    {
     "data": {
      "text/plain": [
       "29.297762312116376"
      ]
     },
     "execution_count": 11,
     "metadata": {},
     "output_type": "execute_result"
    }
   ],
   "source": [
    "len(y_test[y_test==-1])/len(y_test)*100"
   ]
  },
  {
   "cell_type": "code",
   "execution_count": null,
   "metadata": {},
   "outputs": [],
   "source": [
    "from sklearn.ensemble import RandomForestClassifier\n",
    "parameters={'n_estimators':[100,150,200],\n",
    "            'criterion':('gini', 'entropy'),\n",
    "            'max_features':('sqrt','log2','auto')}\n",
    "# Create the model with 100 trees\n",
    "model = RandomForestClassifier(n_jobs=-1,oob_score=True,min_samples_leaf=2)\n",
    "clf = GridSearchCV(model, parameters,n_jobs=-1,cv=10)\n",
    "# Fit on training data\n",
    "clf.fit(X_train,y_train)"
   ]
  },
  {
   "cell_type": "code",
   "execution_count": null,
   "metadata": {},
   "outputs": [],
   "source": [
    "pred=clf.predict(X_test)\n",
    "print(\"Precision = {}\".format(precision_score(y_test,pred, average='macro')))\n",
    "print(\"Recall = {}\".format(recall_score(y_test,pred, average='macro')))\n",
    "print(\"Accuracy = {}\".format(accuracy_score(y_test,pred)))\n",
    "print(\"F1 score = {}\".format(f1_score(y_test,pred,average='macro')))\n",
    "confusion_matrix(y_test, pred)"
   ]
  },
  {
   "cell_type": "code",
   "execution_count": null,
   "metadata": {},
   "outputs": [],
   "source": [
    "print(sklearn.metrics.classification_report(y_test,pred) )"
   ]
  },
  {
   "cell_type": "code",
   "execution_count": null,
   "metadata": {},
   "outputs": [],
   "source": [
    "import joblib\n",
    "file='random_clf.pkl'\n",
    "joblib.dump(clf,file)"
   ]
  },
  {
   "cell_type": "code",
   "execution_count": null,
   "metadata": {},
   "outputs": [],
   "source": [
    "cv_dict = sklearn.model_selection.cross_validate(model, X, y, return_train_score=True)"
   ]
  },
  {
   "cell_type": "code",
   "execution_count": null,
   "metadata": {},
   "outputs": [],
   "source": [
    "cv_dict"
   ]
  },
  {
   "cell_type": "code",
   "execution_count": null,
   "metadata": {},
   "outputs": [],
   "source": [
    "pred=model.predict(X_scaled)\n",
    "print(\"Precision = {}\".format(precision_score(y,pred, average='macro')))\n",
    "print(\"Recall = {}\".format(recall_score(y,pred, average='macro')))\n",
    "print(\"Accuracy = {}\".format(accuracy_score(y,pred)))\n",
    "print(\"F1 score = {}\".format(f1_score(y,pred,average='macro')))\n",
    "confusion_matrix(y, pred)"
   ]
  },
  {
   "cell_type": "code",
   "execution_count": null,
   "metadata": {},
   "outputs": [],
   "source": [
    "pred[:10]"
   ]
  }
 ],
 "metadata": {
  "kernelspec": {
   "display_name": "Python 3",
   "language": "python",
   "name": "python3"
  },
  "language_info": {
   "codemirror_mode": {
    "name": "ipython",
    "version": 3
   },
   "file_extension": ".py",
   "mimetype": "text/x-python",
   "name": "python",
   "nbconvert_exporter": "python",
   "pygments_lexer": "ipython3",
   "version": "3.7.4"
  }
 },
 "nbformat": 4,
 "nbformat_minor": 2
}
