{
 "cells": [
  {
   "cell_type": "code",
   "execution_count": 1,
   "metadata": {},
   "outputs": [],
   "source": [
    "import pandas as pd\n",
    "from sklearn.model_selection import train_test_split \n",
    "from sklearn.metrics import precision_score, recall_score, accuracy_score,f1_score\n",
    "import sklearn\n",
    "from sklearn import metrics\n",
    "%matplotlib inline"
   ]
  },
  {
   "cell_type": "code",
   "execution_count": 2,
   "metadata": {},
   "outputs": [
    {
     "data": {
      "text/html": [
       "<div>\n",
       "<style scoped>\n",
       "    .dataframe tbody tr th:only-of-type {\n",
       "        vertical-align: middle;\n",
       "    }\n",
       "\n",
       "    .dataframe tbody tr th {\n",
       "        vertical-align: top;\n",
       "    }\n",
       "\n",
       "    .dataframe thead th {\n",
       "        text-align: right;\n",
       "    }\n",
       "</style>\n",
       "<table border=\"1\" class=\"dataframe\">\n",
       "  <thead>\n",
       "    <tr style=\"text-align: right;\">\n",
       "      <th></th>\n",
       "      <th>url</th>\n",
       "      <th>url_len</th>\n",
       "      <th>count_comma</th>\n",
       "      <th>count_semicolon</th>\n",
       "      <th>count_quotes</th>\n",
       "      <th>count_braces</th>\n",
       "      <th>count_redirects</th>\n",
       "      <th>count_pipes</th>\n",
       "      <th>count_dots</th>\n",
       "      <th>count_dash</th>\n",
       "      <th>...</th>\n",
       "      <th>count_dots_host</th>\n",
       "      <th>count_digit_host</th>\n",
       "      <th>count_non_alphanumeric_host</th>\n",
       "      <th>parameter_count</th>\n",
       "      <th>parameter_length</th>\n",
       "      <th>directory_len</th>\n",
       "      <th>digit_char_ratio</th>\n",
       "      <th>vowel_consonant_ratio</th>\n",
       "      <th>avg_len_token</th>\n",
       "      <th>label</th>\n",
       "    </tr>\n",
       "  </thead>\n",
       "  <tbody>\n",
       "    <tr>\n",
       "      <td>0</td>\n",
       "      <td>https://2bittechnology.in/js/mfilealldom/mfile...</td>\n",
       "      <td>72</td>\n",
       "      <td>0</td>\n",
       "      <td>0</td>\n",
       "      <td>0</td>\n",
       "      <td>0</td>\n",
       "      <td>0</td>\n",
       "      <td>0</td>\n",
       "      <td>1</td>\n",
       "      <td>0</td>\n",
       "      <td>...</td>\n",
       "      <td>1</td>\n",
       "      <td>1</td>\n",
       "      <td>1</td>\n",
       "      <td>0</td>\n",
       "      <td>0</td>\n",
       "      <td>55</td>\n",
       "      <td>2.3</td>\n",
       "      <td>0.241379</td>\n",
       "      <td>9.4</td>\n",
       "      <td>1</td>\n",
       "    </tr>\n",
       "    <tr>\n",
       "      <td>1</td>\n",
       "      <td>https://www.xporn.eventfreex.com/</td>\n",
       "      <td>25</td>\n",
       "      <td>0</td>\n",
       "      <td>0</td>\n",
       "      <td>0</td>\n",
       "      <td>0</td>\n",
       "      <td>0</td>\n",
       "      <td>0</td>\n",
       "      <td>3</td>\n",
       "      <td>0</td>\n",
       "      <td>...</td>\n",
       "      <td>3</td>\n",
       "      <td>1</td>\n",
       "      <td>3</td>\n",
       "      <td>0</td>\n",
       "      <td>0</td>\n",
       "      <td>1</td>\n",
       "      <td>21.0</td>\n",
       "      <td>0.315789</td>\n",
       "      <td>5.4</td>\n",
       "      <td>1</td>\n",
       "    </tr>\n",
       "    <tr>\n",
       "      <td>2</td>\n",
       "      <td>https://upapage.000webhostapp.com/set.html</td>\n",
       "      <td>34</td>\n",
       "      <td>0</td>\n",
       "      <td>0</td>\n",
       "      <td>0</td>\n",
       "      <td>0</td>\n",
       "      <td>0</td>\n",
       "      <td>0</td>\n",
       "      <td>3</td>\n",
       "      <td>0</td>\n",
       "      <td>...</td>\n",
       "      <td>2</td>\n",
       "      <td>3</td>\n",
       "      <td>2</td>\n",
       "      <td>0</td>\n",
       "      <td>0</td>\n",
       "      <td>9</td>\n",
       "      <td>9.0</td>\n",
       "      <td>0.360000</td>\n",
       "      <td>6.4</td>\n",
       "      <td>1</td>\n",
       "    </tr>\n",
       "    <tr>\n",
       "      <td>3</td>\n",
       "      <td>https://upapage.000webhostapp.com/sets.html?=1...</td>\n",
       "      <td>115</td>\n",
       "      <td>0</td>\n",
       "      <td>0</td>\n",
       "      <td>0</td>\n",
       "      <td>0</td>\n",
       "      <td>0</td>\n",
       "      <td>0</td>\n",
       "      <td>3</td>\n",
       "      <td>0</td>\n",
       "      <td>...</td>\n",
       "      <td>2</td>\n",
       "      <td>3</td>\n",
       "      <td>2</td>\n",
       "      <td>4</td>\n",
       "      <td>80</td>\n",
       "      <td>10</td>\n",
       "      <td>5.8</td>\n",
       "      <td>0.321839</td>\n",
       "      <td>14.5</td>\n",
       "      <td>1</td>\n",
       "    </tr>\n",
       "    <tr>\n",
       "      <td>4</td>\n",
       "      <td>https://f.samsung-lucky-winner.xyz/</td>\n",
       "      <td>27</td>\n",
       "      <td>0</td>\n",
       "      <td>0</td>\n",
       "      <td>0</td>\n",
       "      <td>0</td>\n",
       "      <td>0</td>\n",
       "      <td>0</td>\n",
       "      <td>2</td>\n",
       "      <td>2</td>\n",
       "      <td>...</td>\n",
       "      <td>2</td>\n",
       "      <td>1</td>\n",
       "      <td>4</td>\n",
       "      <td>0</td>\n",
       "      <td>0</td>\n",
       "      <td>1</td>\n",
       "      <td>22.0</td>\n",
       "      <td>0.227273</td>\n",
       "      <td>5.8</td>\n",
       "      <td>1</td>\n",
       "    </tr>\n",
       "  </tbody>\n",
       "</table>\n",
       "<p>5 rows × 32 columns</p>\n",
       "</div>"
      ],
      "text/plain": [
       "                                                 url  url_len  count_comma  \\\n",
       "0  https://2bittechnology.in/js/mfilealldom/mfile...       72            0   \n",
       "1                  https://www.xporn.eventfreex.com/       25            0   \n",
       "2         https://upapage.000webhostapp.com/set.html       34            0   \n",
       "3  https://upapage.000webhostapp.com/sets.html?=1...      115            0   \n",
       "4                https://f.samsung-lucky-winner.xyz/       27            0   \n",
       "\n",
       "   count_semicolon  count_quotes  count_braces  count_redirects  count_pipes  \\\n",
       "0                0             0             0                0            0   \n",
       "1                0             0             0                0            0   \n",
       "2                0             0             0                0            0   \n",
       "3                0             0             0                0            0   \n",
       "4                0             0             0                0            0   \n",
       "\n",
       "   count_dots  count_dash  ...  count_dots_host  count_digit_host  \\\n",
       "0           1           0  ...                1                 1   \n",
       "1           3           0  ...                3                 1   \n",
       "2           3           0  ...                2                 3   \n",
       "3           3           0  ...                2                 3   \n",
       "4           2           2  ...                2                 1   \n",
       "\n",
       "   count_non_alphanumeric_host  parameter_count  parameter_length  \\\n",
       "0                            1                0                 0   \n",
       "1                            3                0                 0   \n",
       "2                            2                0                 0   \n",
       "3                            2                4                80   \n",
       "4                            4                0                 0   \n",
       "\n",
       "   directory_len  digit_char_ratio  vowel_consonant_ratio  avg_len_token  \\\n",
       "0             55               2.3               0.241379            9.4   \n",
       "1              1              21.0               0.315789            5.4   \n",
       "2              9               9.0               0.360000            6.4   \n",
       "3             10               5.8               0.321839           14.5   \n",
       "4              1              22.0               0.227273            5.8   \n",
       "\n",
       "   label  \n",
       "0      1  \n",
       "1      1  \n",
       "2      1  \n",
       "3      1  \n",
       "4      1  \n",
       "\n",
       "[5 rows x 32 columns]"
      ]
     },
     "execution_count": 2,
     "metadata": {},
     "output_type": "execute_result"
    }
   ],
   "source": [
    "dataset=pd.read_csv('Featured_dataset.csv')\n",
    "dataset.head()"
   ]
  },
  {
   "cell_type": "code",
   "execution_count": 3,
   "metadata": {},
   "outputs": [
    {
     "data": {
      "text/plain": [
       "Index(['url', 'url_len', 'count_comma', 'count_semicolon', 'count_quotes',\n",
       "       'count_braces', 'count_redirects', 'count_pipes', 'count_dots',\n",
       "       'count_dash', 'count_underline', 'count_question', 'count_equal',\n",
       "       'count_attherate', 'count_char', 'count_digit', 'count_alphanumeric',\n",
       "       'count_non_alphanumeric', 'count_tlds', 'host_has_ip', 'present_ip',\n",
       "       'present_http', 'count_dots_host', 'count_digit_host',\n",
       "       'count_non_alphanumeric_host', 'parameter_count', 'parameter_length',\n",
       "       'directory_len', 'digit_char_ratio', 'vowel_consonant_ratio',\n",
       "       'avg_len_token', 'label'],\n",
       "      dtype='object')"
      ]
     },
     "execution_count": 3,
     "metadata": {},
     "output_type": "execute_result"
    }
   ],
   "source": [
    "dataset.columns"
   ]
  },
  {
   "cell_type": "code",
   "execution_count": 12,
   "metadata": {},
   "outputs": [
    {
     "data": {
      "text/plain": [
       "(1034546, 32)"
      ]
     },
     "execution_count": 12,
     "metadata": {},
     "output_type": "execute_result"
    }
   ],
   "source": [
    "dataset.shape"
   ]
  },
  {
   "cell_type": "code",
   "execution_count": 13,
   "metadata": {},
   "outputs": [
    {
     "data": {
      "text/html": [
       "<div>\n",
       "<style scoped>\n",
       "    .dataframe tbody tr th:only-of-type {\n",
       "        vertical-align: middle;\n",
       "    }\n",
       "\n",
       "    .dataframe tbody tr th {\n",
       "        vertical-align: top;\n",
       "    }\n",
       "\n",
       "    .dataframe thead th {\n",
       "        text-align: right;\n",
       "    }\n",
       "</style>\n",
       "<table border=\"1\" class=\"dataframe\">\n",
       "  <thead>\n",
       "    <tr style=\"text-align: right;\">\n",
       "      <th></th>\n",
       "      <th>url_len</th>\n",
       "      <th>count_comma</th>\n",
       "      <th>count_semicolon</th>\n",
       "      <th>count_quotes</th>\n",
       "      <th>count_braces</th>\n",
       "      <th>count_redirects</th>\n",
       "      <th>count_pipes</th>\n",
       "      <th>count_dots</th>\n",
       "      <th>count_dash</th>\n",
       "      <th>count_underline</th>\n",
       "      <th>...</th>\n",
       "      <th>count_dots_host</th>\n",
       "      <th>count_digit_host</th>\n",
       "      <th>count_non_alphanumeric_host</th>\n",
       "      <th>parameter_count</th>\n",
       "      <th>parameter_length</th>\n",
       "      <th>directory_len</th>\n",
       "      <th>digit_char_ratio</th>\n",
       "      <th>vowel_consonant_ratio</th>\n",
       "      <th>avg_len_token</th>\n",
       "      <th>label</th>\n",
       "    </tr>\n",
       "  </thead>\n",
       "  <tbody>\n",
       "    <tr>\n",
       "      <td>count</td>\n",
       "      <td>1.034546e+06</td>\n",
       "      <td>1.034546e+06</td>\n",
       "      <td>1.034546e+06</td>\n",
       "      <td>1.034546e+06</td>\n",
       "      <td>1.034546e+06</td>\n",
       "      <td>1.034546e+06</td>\n",
       "      <td>1.034546e+06</td>\n",
       "      <td>1.034546e+06</td>\n",
       "      <td>1.034546e+06</td>\n",
       "      <td>1.034546e+06</td>\n",
       "      <td>...</td>\n",
       "      <td>1.034546e+06</td>\n",
       "      <td>1.034546e+06</td>\n",
       "      <td>1.034546e+06</td>\n",
       "      <td>1.034546e+06</td>\n",
       "      <td>1.034546e+06</td>\n",
       "      <td>1.034546e+06</td>\n",
       "      <td>1.034546e+06</td>\n",
       "      <td>1.034546e+06</td>\n",
       "      <td>1.034546e+06</td>\n",
       "      <td>1.034546e+06</td>\n",
       "    </tr>\n",
       "    <tr>\n",
       "      <td>mean</td>\n",
       "      <td>5.369174e+01</td>\n",
       "      <td>2.025043e-02</td>\n",
       "      <td>7.194460e-02</td>\n",
       "      <td>1.470017e-02</td>\n",
       "      <td>2.148769e-02</td>\n",
       "      <td>7.341385e-03</td>\n",
       "      <td>1.669331e-03</td>\n",
       "      <td>2.282747e+00</td>\n",
       "      <td>1.253287e+00</td>\n",
       "      <td>4.047573e-01</td>\n",
       "      <td>...</td>\n",
       "      <td>1.729736e+00</td>\n",
       "      <td>1.339764e+00</td>\n",
       "      <td>1.849844e+00</td>\n",
       "      <td>2.606583e-01</td>\n",
       "      <td>7.635396e+00</td>\n",
       "      <td>2.812821e+01</td>\n",
       "      <td>2.235677e+01</td>\n",
       "      <td>3.738621e-01</td>\n",
       "      <td>8.365934e+00</td>\n",
       "      <td>2.930010e-01</td>\n",
       "    </tr>\n",
       "    <tr>\n",
       "      <td>std</td>\n",
       "      <td>4.491613e+01</td>\n",
       "      <td>3.110086e-01</td>\n",
       "      <td>7.249470e-01</td>\n",
       "      <td>2.055408e-01</td>\n",
       "      <td>2.570595e-01</td>\n",
       "      <td>1.273233e-01</td>\n",
       "      <td>1.192188e-01</td>\n",
       "      <td>1.452444e+00</td>\n",
       "      <td>2.568526e+00</td>\n",
       "      <td>1.306302e+00</td>\n",
       "      <td>...</td>\n",
       "      <td>9.559944e-01</td>\n",
       "      <td>2.722929e+00</td>\n",
       "      <td>1.144172e+00</td>\n",
       "      <td>8.610489e-01</td>\n",
       "      <td>3.499507e+01</td>\n",
       "      <td>2.553054e+01</td>\n",
       "      <td>1.889225e+01</td>\n",
       "      <td>1.236255e-01</td>\n",
       "      <td>5.323125e+00</td>\n",
       "      <td>4.551391e-01</td>\n",
       "    </tr>\n",
       "    <tr>\n",
       "      <td>min</td>\n",
       "      <td>0.000000e+00</td>\n",
       "      <td>0.000000e+00</td>\n",
       "      <td>0.000000e+00</td>\n",
       "      <td>0.000000e+00</td>\n",
       "      <td>0.000000e+00</td>\n",
       "      <td>0.000000e+00</td>\n",
       "      <td>0.000000e+00</td>\n",
       "      <td>0.000000e+00</td>\n",
       "      <td>0.000000e+00</td>\n",
       "      <td>0.000000e+00</td>\n",
       "      <td>...</td>\n",
       "      <td>0.000000e+00</td>\n",
       "      <td>1.000000e+00</td>\n",
       "      <td>0.000000e+00</td>\n",
       "      <td>0.000000e+00</td>\n",
       "      <td>0.000000e+00</td>\n",
       "      <td>0.000000e+00</td>\n",
       "      <td>0.000000e+00</td>\n",
       "      <td>0.000000e+00</td>\n",
       "      <td>4.444444e-01</td>\n",
       "      <td>0.000000e+00</td>\n",
       "    </tr>\n",
       "    <tr>\n",
       "      <td>25%</td>\n",
       "      <td>3.000000e+01</td>\n",
       "      <td>0.000000e+00</td>\n",
       "      <td>0.000000e+00</td>\n",
       "      <td>0.000000e+00</td>\n",
       "      <td>0.000000e+00</td>\n",
       "      <td>0.000000e+00</td>\n",
       "      <td>0.000000e+00</td>\n",
       "      <td>1.000000e+00</td>\n",
       "      <td>0.000000e+00</td>\n",
       "      <td>0.000000e+00</td>\n",
       "      <td>...</td>\n",
       "      <td>1.000000e+00</td>\n",
       "      <td>1.000000e+00</td>\n",
       "      <td>1.000000e+00</td>\n",
       "      <td>0.000000e+00</td>\n",
       "      <td>0.000000e+00</td>\n",
       "      <td>1.100000e+01</td>\n",
       "      <td>6.750000e+00</td>\n",
       "      <td>2.937500e-01</td>\n",
       "      <td>5.555556e+00</td>\n",
       "      <td>0.000000e+00</td>\n",
       "    </tr>\n",
       "    <tr>\n",
       "      <td>50%</td>\n",
       "      <td>4.300000e+01</td>\n",
       "      <td>0.000000e+00</td>\n",
       "      <td>0.000000e+00</td>\n",
       "      <td>0.000000e+00</td>\n",
       "      <td>0.000000e+00</td>\n",
       "      <td>0.000000e+00</td>\n",
       "      <td>0.000000e+00</td>\n",
       "      <td>2.000000e+00</td>\n",
       "      <td>0.000000e+00</td>\n",
       "      <td>0.000000e+00</td>\n",
       "      <td>...</td>\n",
       "      <td>2.000000e+00</td>\n",
       "      <td>1.000000e+00</td>\n",
       "      <td>2.000000e+00</td>\n",
       "      <td>0.000000e+00</td>\n",
       "      <td>0.000000e+00</td>\n",
       "      <td>2.200000e+01</td>\n",
       "      <td>1.900000e+01</td>\n",
       "      <td>3.684211e-01</td>\n",
       "      <td>7.222222e+00</td>\n",
       "      <td>0.000000e+00</td>\n",
       "    </tr>\n",
       "    <tr>\n",
       "      <td>75%</td>\n",
       "      <td>6.300000e+01</td>\n",
       "      <td>0.000000e+00</td>\n",
       "      <td>0.000000e+00</td>\n",
       "      <td>0.000000e+00</td>\n",
       "      <td>0.000000e+00</td>\n",
       "      <td>0.000000e+00</td>\n",
       "      <td>0.000000e+00</td>\n",
       "      <td>3.000000e+00</td>\n",
       "      <td>1.000000e+00</td>\n",
       "      <td>0.000000e+00</td>\n",
       "      <td>...</td>\n",
       "      <td>2.000000e+00</td>\n",
       "      <td>1.000000e+00</td>\n",
       "      <td>2.000000e+00</td>\n",
       "      <td>0.000000e+00</td>\n",
       "      <td>0.000000e+00</td>\n",
       "      <td>3.800000e+01</td>\n",
       "      <td>3.300000e+01</td>\n",
       "      <td>4.500000e-01</td>\n",
       "      <td>9.555556e+00</td>\n",
       "      <td>1.000000e+00</td>\n",
       "    </tr>\n",
       "    <tr>\n",
       "      <td>max</td>\n",
       "      <td>4.010000e+03</td>\n",
       "      <td>3.600000e+01</td>\n",
       "      <td>1.040000e+02</td>\n",
       "      <td>2.600000e+01</td>\n",
       "      <td>2.200000e+01</td>\n",
       "      <td>1.600000e+01</td>\n",
       "      <td>3.700000e+01</td>\n",
       "      <td>7.400000e+01</td>\n",
       "      <td>5.000000e+01</td>\n",
       "      <td>2.000000e+02</td>\n",
       "      <td>...</td>\n",
       "      <td>3.400000e+01</td>\n",
       "      <td>1.340000e+02</td>\n",
       "      <td>3.400000e+01</td>\n",
       "      <td>4.300000e+01</td>\n",
       "      <td>3.975000e+03</td>\n",
       "      <td>2.156000e+03</td>\n",
       "      <td>2.141000e+03</td>\n",
       "      <td>2.000000e+00</td>\n",
       "      <td>4.475556e+02</td>\n",
       "      <td>1.000000e+00</td>\n",
       "    </tr>\n",
       "  </tbody>\n",
       "</table>\n",
       "<p>8 rows × 31 columns</p>\n",
       "</div>"
      ],
      "text/plain": [
       "            url_len   count_comma  count_semicolon  count_quotes  \\\n",
       "count  1.034546e+06  1.034546e+06     1.034546e+06  1.034546e+06   \n",
       "mean   5.369174e+01  2.025043e-02     7.194460e-02  1.470017e-02   \n",
       "std    4.491613e+01  3.110086e-01     7.249470e-01  2.055408e-01   \n",
       "min    0.000000e+00  0.000000e+00     0.000000e+00  0.000000e+00   \n",
       "25%    3.000000e+01  0.000000e+00     0.000000e+00  0.000000e+00   \n",
       "50%    4.300000e+01  0.000000e+00     0.000000e+00  0.000000e+00   \n",
       "75%    6.300000e+01  0.000000e+00     0.000000e+00  0.000000e+00   \n",
       "max    4.010000e+03  3.600000e+01     1.040000e+02  2.600000e+01   \n",
       "\n",
       "       count_braces  count_redirects   count_pipes    count_dots  \\\n",
       "count  1.034546e+06     1.034546e+06  1.034546e+06  1.034546e+06   \n",
       "mean   2.148769e-02     7.341385e-03  1.669331e-03  2.282747e+00   \n",
       "std    2.570595e-01     1.273233e-01  1.192188e-01  1.452444e+00   \n",
       "min    0.000000e+00     0.000000e+00  0.000000e+00  0.000000e+00   \n",
       "25%    0.000000e+00     0.000000e+00  0.000000e+00  1.000000e+00   \n",
       "50%    0.000000e+00     0.000000e+00  0.000000e+00  2.000000e+00   \n",
       "75%    0.000000e+00     0.000000e+00  0.000000e+00  3.000000e+00   \n",
       "max    2.200000e+01     1.600000e+01  3.700000e+01  7.400000e+01   \n",
       "\n",
       "         count_dash  count_underline  ...  count_dots_host  count_digit_host  \\\n",
       "count  1.034546e+06     1.034546e+06  ...     1.034546e+06      1.034546e+06   \n",
       "mean   1.253287e+00     4.047573e-01  ...     1.729736e+00      1.339764e+00   \n",
       "std    2.568526e+00     1.306302e+00  ...     9.559944e-01      2.722929e+00   \n",
       "min    0.000000e+00     0.000000e+00  ...     0.000000e+00      1.000000e+00   \n",
       "25%    0.000000e+00     0.000000e+00  ...     1.000000e+00      1.000000e+00   \n",
       "50%    0.000000e+00     0.000000e+00  ...     2.000000e+00      1.000000e+00   \n",
       "75%    1.000000e+00     0.000000e+00  ...     2.000000e+00      1.000000e+00   \n",
       "max    5.000000e+01     2.000000e+02  ...     3.400000e+01      1.340000e+02   \n",
       "\n",
       "       count_non_alphanumeric_host  parameter_count  parameter_length  \\\n",
       "count                 1.034546e+06     1.034546e+06      1.034546e+06   \n",
       "mean                  1.849844e+00     2.606583e-01      7.635396e+00   \n",
       "std                   1.144172e+00     8.610489e-01      3.499507e+01   \n",
       "min                   0.000000e+00     0.000000e+00      0.000000e+00   \n",
       "25%                   1.000000e+00     0.000000e+00      0.000000e+00   \n",
       "50%                   2.000000e+00     0.000000e+00      0.000000e+00   \n",
       "75%                   2.000000e+00     0.000000e+00      0.000000e+00   \n",
       "max                   3.400000e+01     4.300000e+01      3.975000e+03   \n",
       "\n",
       "       directory_len  digit_char_ratio  vowel_consonant_ratio  avg_len_token  \\\n",
       "count   1.034546e+06      1.034546e+06           1.034546e+06   1.034546e+06   \n",
       "mean    2.812821e+01      2.235677e+01           3.738621e-01   8.365934e+00   \n",
       "std     2.553054e+01      1.889225e+01           1.236255e-01   5.323125e+00   \n",
       "min     0.000000e+00      0.000000e+00           0.000000e+00   4.444444e-01   \n",
       "25%     1.100000e+01      6.750000e+00           2.937500e-01   5.555556e+00   \n",
       "50%     2.200000e+01      1.900000e+01           3.684211e-01   7.222222e+00   \n",
       "75%     3.800000e+01      3.300000e+01           4.500000e-01   9.555556e+00   \n",
       "max     2.156000e+03      2.141000e+03           2.000000e+00   4.475556e+02   \n",
       "\n",
       "              label  \n",
       "count  1.034546e+06  \n",
       "mean   2.930010e-01  \n",
       "std    4.551391e-01  \n",
       "min    0.000000e+00  \n",
       "25%    0.000000e+00  \n",
       "50%    0.000000e+00  \n",
       "75%    1.000000e+00  \n",
       "max    1.000000e+00  \n",
       "\n",
       "[8 rows x 31 columns]"
      ]
     },
     "execution_count": 13,
     "metadata": {},
     "output_type": "execute_result"
    }
   ],
   "source": [
    "dataset.describe()"
   ]
  },
  {
   "cell_type": "code",
   "execution_count": 9,
   "metadata": {},
   "outputs": [],
   "source": [
    "dataset=sklearn.utils.shuffle(dataset)"
   ]
  },
  {
   "cell_type": "code",
   "execution_count": 10,
   "metadata": {},
   "outputs": [],
   "source": [
    "X=dataset.drop(['url','label'],axis=1)\n",
    "y=dataset.label"
   ]
  },
  {
   "cell_type": "code",
   "execution_count": 11,
   "metadata": {},
   "outputs": [],
   "source": [
    "from sklearn.preprocessing import MinMaxScaler\n",
    "sc_x=MinMaxScaler()\n",
    "X_scaled=sc_x.fit_transform(X)"
   ]
  },
  {
   "cell_type": "code",
   "execution_count": 12,
   "metadata": {},
   "outputs": [],
   "source": [
    "X_train, X_test, y_train, y_test = train_test_split(X_scaled, y, test_size=0.02, random_state=0)"
   ]
  },
  {
   "cell_type": "code",
   "execution_count": 22,
   "metadata": {},
   "outputs": [
    {
     "data": {
      "text/plain": [
       "29.296003866430603"
      ]
     },
     "execution_count": 22,
     "metadata": {},
     "output_type": "execute_result"
    }
   ],
   "source": [
    "len(y_train[y_train==1])/len(y_train)*100"
   ]
  },
  {
   "cell_type": "code",
   "execution_count": 23,
   "metadata": {},
   "outputs": [
    {
     "data": {
      "text/plain": [
       "29.500749117974003"
      ]
     },
     "execution_count": 23,
     "metadata": {},
     "output_type": "execute_result"
    }
   ],
   "source": [
    "len(y_test[y_test==1])/len(y_test)*100"
   ]
  },
  {
   "cell_type": "markdown",
   "metadata": {},
   "source": [
    "# Logistic regression"
   ]
  },
  {
   "cell_type": "markdown",
   "metadata": {},
   "source": [
    "### newton-cg"
   ]
  },
  {
   "cell_type": "code",
   "execution_count": 24,
   "metadata": {},
   "outputs": [
    {
     "data": {
      "text/plain": [
       "array([[13986,   601],\n",
       "       [ 3559,  2545]], dtype=int64)"
      ]
     },
     "execution_count": 24,
     "metadata": {},
     "output_type": "execute_result"
    }
   ],
   "source": [
    "logistic_regrassor1=LogisticRegression(solver='newton-cg')\n",
    "logistic_regrassor1.fit(X_train,y_train)\n",
    "pred=logistic_regrassor1.predict(X_test)\n",
    "metrics.confusion_matrix(y_test, pred)"
   ]
  },
  {
   "cell_type": "code",
   "execution_count": 25,
   "metadata": {},
   "outputs": [],
   "source": [
    "logistic_regrassor1.score(X_test,y_test)*100\n",
    "pred=logistic_regrassor1.predict(X_test)\n"
   ]
  },
  {
   "cell_type": "code",
   "execution_count": 26,
   "metadata": {},
   "outputs": [
    {
     "name": "stdout",
     "output_type": "stream",
     "text": [
      "              precision    recall  f1-score   support\n",
      "\n",
      "           0       0.80      0.96      0.87     14587\n",
      "           1       0.81      0.42      0.55      6104\n",
      "\n",
      "    accuracy                           0.80     20691\n",
      "   macro avg       0.80      0.69      0.71     20691\n",
      "weighted avg       0.80      0.80      0.78     20691\n",
      "\n"
     ]
    }
   ],
   "source": [
    "print(sklearn.metrics.classification_report(y_test,pred) )"
   ]
  },
  {
   "cell_type": "code",
   "execution_count": 27,
   "metadata": {},
   "outputs": [
    {
     "data": {
      "text/plain": [
       "['lr.pkl']"
      ]
     },
     "execution_count": 27,
     "metadata": {},
     "output_type": "execute_result"
    }
   ],
   "source": [
    "import joblib\n",
    "file='lr.pkl'\n",
    "joblib.dump(logistic_regrassor1,file)"
   ]
  },
  {
   "cell_type": "markdown",
   "metadata": {},
   "source": [
    "### lbfgs"
   ]
  },
  {
   "cell_type": "code",
   "execution_count": 28,
   "metadata": {},
   "outputs": [
    {
     "data": {
      "text/plain": [
       "array([[13987,   600],\n",
       "       [ 3557,  2547]], dtype=int64)"
      ]
     },
     "execution_count": 28,
     "metadata": {},
     "output_type": "execute_result"
    }
   ],
   "source": [
    "logistic_regrassor2=LogisticRegression(solver='lbfgs',max_iter=500)\n",
    "logistic_regrassor2.fit(X_train,y_train)\n",
    "pred=logistic_regrassor2.predict(X_test)\n",
    "metrics.confusion_matrix(y_test, pred)"
   ]
  },
  {
   "cell_type": "code",
   "execution_count": 29,
   "metadata": {},
   "outputs": [
    {
     "name": "stdout",
     "output_type": "stream",
     "text": [
      "Precision = 0.8032974263374625\n",
      "Recall = 0.6880674252042767\n",
      "Accuracy = 0.7990913923928278\n",
      "F1 score = 0.710633279613248\n"
     ]
    }
   ],
   "source": [
    "logistic_regrassor2.score(X_test,y_test)*100\n",
    "pred=logistic_regrassor2.predict(X_test)\n",
    "print(\"Precision = {}\".format(precision_score(y_test,pred, average='macro')))\n",
    "print(\"Recall = {}\".format(recall_score(y_test,pred, average='macro')))\n",
    "print(\"Accuracy = {}\".format(accuracy_score(y_test,pred)))\n",
    "print(\"F1 score = {}\".format(f1_score(y_test,pred,average='macro')))"
   ]
  },
  {
   "cell_type": "code",
   "execution_count": 30,
   "metadata": {},
   "outputs": [
    {
     "name": "stdout",
     "output_type": "stream",
     "text": [
      "              precision    recall  f1-score   support\n",
      "\n",
      "           0       0.80      0.96      0.87     14587\n",
      "           1       0.81      0.42      0.55      6104\n",
      "\n",
      "    accuracy                           0.80     20691\n",
      "   macro avg       0.80      0.69      0.71     20691\n",
      "weighted avg       0.80      0.80      0.78     20691\n",
      "\n"
     ]
    }
   ],
   "source": [
    "print(sklearn.metrics.classification_report(y_test,pred) )"
   ]
  },
  {
   "cell_type": "markdown",
   "metadata": {},
   "source": [
    "# Random forest "
   ]
  },
  {
   "cell_type": "code",
   "execution_count": 31,
   "metadata": {},
   "outputs": [
    {
     "data": {
      "text/plain": [
       "RandomForestClassifier(bootstrap=True, class_weight=None, criterion='gini',\n",
       "                       max_depth=None, max_features='sqrt', max_leaf_nodes=None,\n",
       "                       min_impurity_decrease=0.0, min_impurity_split=None,\n",
       "                       min_samples_leaf=1, min_samples_split=2,\n",
       "                       min_weight_fraction_leaf=0.0, n_estimators=100,\n",
       "                       n_jobs=None, oob_score=False, random_state=None,\n",
       "                       verbose=0, warm_start=False)"
      ]
     },
     "execution_count": 31,
     "metadata": {},
     "output_type": "execute_result"
    }
   ],
   "source": [
    "from sklearn.ensemble import RandomForestClassifier\n",
    "\n",
    "# Create the model with 100 trees\n",
    "model = RandomForestClassifier(n_estimators=100, \n",
    "                               bootstrap = True,\n",
    "                               max_features = 'sqrt')\n",
    "# Fit on training data\n",
    "model.fit(X_train,y_train)"
   ]
  },
  {
   "cell_type": "code",
   "execution_count": 32,
   "metadata": {},
   "outputs": [
    {
     "data": {
      "text/plain": [
       "array([[13849,   738],\n",
       "       [ 1121,  4983]], dtype=int64)"
      ]
     },
     "execution_count": 32,
     "metadata": {},
     "output_type": "execute_result"
    }
   ],
   "source": [
    "pred=model.predict(X_test)\n",
    "metrics.confusion_matrix(y_test, pred)"
   ]
  },
  {
   "cell_type": "code",
   "execution_count": 33,
   "metadata": {},
   "outputs": [
    {
     "name": "stdout",
     "output_type": "stream",
     "text": [
      "Precision = 0.8980592368095743\n",
      "Recall = 0.882878470353816\n",
      "Accuracy = 0.910154173312068\n",
      "F1 score = 0.8899476376351252\n"
     ]
    }
   ],
   "source": [
    "model.score(X_test,y_test)*100\n",
    "pred=model.predict(X_test)\n",
    "print(\"Precision = {}\".format(precision_score(y_test,pred, average='macro')))\n",
    "print(\"Recall = {}\".format(recall_score(y_test,pred, average='macro')))\n",
    "print(\"Accuracy = {}\".format(accuracy_score(y_test,pred)))\n",
    "print(\"F1 score = {}\".format(f1_score(y_test,pred,average='macro')))"
   ]
  },
  {
   "cell_type": "code",
   "execution_count": 34,
   "metadata": {},
   "outputs": [
    {
     "name": "stdout",
     "output_type": "stream",
     "text": [
      "              precision    recall  f1-score   support\n",
      "\n",
      "           0       0.93      0.95      0.94     14587\n",
      "           1       0.87      0.82      0.84      6104\n",
      "\n",
      "    accuracy                           0.91     20691\n",
      "   macro avg       0.90      0.88      0.89     20691\n",
      "weighted avg       0.91      0.91      0.91     20691\n",
      "\n"
     ]
    }
   ],
   "source": [
    "print(sklearn.metrics.classification_report(y_test,pred) )"
   ]
  },
  {
   "cell_type": "code",
   "execution_count": 35,
   "metadata": {},
   "outputs": [
    {
     "data": {
      "text/plain": [
       "['random_froest.pkl']"
      ]
     },
     "execution_count": 35,
     "metadata": {},
     "output_type": "execute_result"
    }
   ],
   "source": [
    "file='random_froest.pkl'\n",
    "joblib.dump(model,file)"
   ]
  },
  {
   "cell_type": "markdown",
   "metadata": {},
   "source": [
    "# Knn"
   ]
  },
  {
   "cell_type": "code",
   "execution_count": null,
   "metadata": {},
   "outputs": [],
   "source": []
  },
  {
   "cell_type": "code",
   "execution_count": 7,
   "metadata": {},
   "outputs": [],
   "source": [
    "import joblib\n",
    "file='knn.pkl'\n",
    "k_model=joblib.load(file)"
   ]
  },
  {
   "cell_type": "code",
   "execution_count": null,
   "metadata": {},
   "outputs": [],
   "source": [
    "pred = k_model.predict(X_test)\n",
    "print(\"Precision = {}\".format(precision_score(y_test,pred, average='macro')))\n",
    "print(\"Recall = {}\".format(recall_score(y_test,pred, average='macro')))\n",
    "print(\"Accuracy = {}\".format(accuracy_score(y_test,pred)))\n",
    "print(\"F1 score = {}\".format(f1_score(y_test,pred,average='macro')))"
   ]
  },
  {
   "cell_type": "code",
   "execution_count": null,
   "metadata": {},
   "outputs": [],
   "source": [
    "metrics.confusion_matrix(y_test, pred)"
   ]
  },
  {
   "cell_type": "code",
   "execution_count": null,
   "metadata": {},
   "outputs": [],
   "source": [
    "print(sklearn.metrics.classification_report(y_test,pred) )"
   ]
  },
  {
   "cell_type": "markdown",
   "metadata": {},
   "source": [
    "# Decision Trees"
   ]
  },
  {
   "cell_type": "code",
   "execution_count": 14,
   "metadata": {},
   "outputs": [],
   "source": [
    "from sklearn.tree import DecisionTreeClassifier"
   ]
  },
  {
   "cell_type": "code",
   "execution_count": 15,
   "metadata": {},
   "outputs": [],
   "source": [
    "clf=DecisionTreeClassifier()\n",
    "clf=clf.fit(X_train,y_train)"
   ]
  },
  {
   "cell_type": "code",
   "execution_count": 27,
   "metadata": {},
   "outputs": [
    {
     "data": {
      "text/plain": [
       "88.96185272444734"
      ]
     },
     "execution_count": 27,
     "metadata": {},
     "output_type": "execute_result"
    }
   ],
   "source": [
    "clf.score(X_test,y_test)*100"
   ]
  },
  {
   "cell_type": "code",
   "execution_count": 16,
   "metadata": {},
   "outputs": [
    {
     "name": "stdout",
     "output_type": "stream",
     "text": [
      "Precision = 0.8632600714544949\n",
      "Recall = 0.8671110398472734\n",
      "Accuracy = 0.8871490019815379\n",
      "F1 score = 0.8651445670870462\n"
     ]
    }
   ],
   "source": [
    "pred=clf.predict(X_test)\n",
    "print(\"Precision = {}\".format(precision_score(y_test,pred, average='macro')))\n",
    "print(\"Recall = {}\".format(recall_score(y_test,pred, average='macro')))\n",
    "print(\"Accuracy = {}\".format(accuracy_score(y_test,pred)))\n",
    "print(\"F1 score = {}\".format(f1_score(y_test,pred,average='macro')))"
   ]
  },
  {
   "cell_type": "code",
   "execution_count": 29,
   "metadata": {},
   "outputs": [
    {
     "data": {
      "text/plain": [
       "array([[13679,  1050],\n",
       "       [ 1152,  4068]], dtype=int64)"
      ]
     },
     "execution_count": 29,
     "metadata": {},
     "output_type": "execute_result"
    }
   ],
   "source": [
    "metrics.confusion_matrix(y_test, pred)"
   ]
  },
  {
   "cell_type": "code",
   "execution_count": null,
   "metadata": {},
   "outputs": [],
   "source": [
    "clf=DecisionTreeClassifier(criterion='entropy',random_state=0)\n",
    "clf=clf.fit(X_train,y_train)"
   ]
  },
  {
   "cell_type": "code",
   "execution_count": null,
   "metadata": {},
   "outputs": [],
   "source": [
    "pred=clf.predict(X_test)\n",
    "print(\"Precision = {}\".format(precision_score(y_test,pred, average='macro')))\n",
    "print(\"Recall = {}\".format(recall_score(y_test,pred, average='macro')))\n",
    "print(\"Accuracy = {}\".format(accuracy_score(y_test,pred)))\n",
    "print(\"F1 score = {}\".format(f1_score(y_test,pred,average='macro')))\n",
    "metrics.confusion_matrix(y_test, pred)"
   ]
  },
  {
   "cell_type": "code",
   "execution_count": 17,
   "metadata": {},
   "outputs": [
    {
     "name": "stdout",
     "output_type": "stream",
     "text": [
      "              precision    recall  f1-score   support\n",
      "\n",
      "          -1       0.80      0.82      0.81      6110\n",
      "           1       0.92      0.92      0.92     14581\n",
      "\n",
      "    accuracy                           0.89     20691\n",
      "   macro avg       0.86      0.87      0.87     20691\n",
      "weighted avg       0.89      0.89      0.89     20691\n",
      "\n"
     ]
    }
   ],
   "source": [
    "print(sklearn.metrics.classification_report(y_test,pred) )"
   ]
  },
  {
   "cell_type": "code",
   "execution_count": 55,
   "metadata": {},
   "outputs": [],
   "source": [
    "import matplotlib.pyplot as plt\n"
   ]
  },
  {
   "cell_type": "code",
   "execution_count": 56,
   "metadata": {},
   "outputs": [],
   "source": [
    "\n",
    "\n",
    "langs = ['Logistic Regression', 'Random Forest', 'Desicion Tree', 'Knn']\n",
    "Accurecy = [80,91,88,88]\n"
   ]
  },
  {
   "cell_type": "code",
   "execution_count": 69,
   "metadata": {},
   "outputs": [
    {
     "data": {
      "image/png": "[encoded data removed]",
      "text/plain": [
       "<Figure size 720x720 with 1 Axes>"
      ]
     },
     "metadata": {
      "needs_background": "light"
     },
     "output_type": "display_data"
    }
   ],
   "source": [
    "plt.figure(figsize=(10,10))\n",
    "plt.bar(langs,Accurecy, color=['#ff619b', '#52e2fe', '#ff0b5b', '#a2f634'])\n",
    "plt.xlabel(\"Models\")\n",
    "plt.ylabel(\"Accurecy\")\n",
    "plt.savefig('fig.png')"
   ]
  },
  {
   "cell_type": "code",
   "execution_count": 71,
   "metadata": {},
   "outputs": [
    {
     "data": {
      "image/png": "[encoded data removed]",
      "text/plain": [
       "<Figure size 720x720 with 1 Axes>"
      ]
     },
     "metadata": {
      "needs_background": "light"
     },
     "output_type": "display_data"
    }
   ],
   "source": [
    "f1=[72,88,84,85]\n",
    "plt.figure(figsize=(10,10))\n",
    "plt.bar(langs,f1, color=['#ff619b', '#52e2fe', '#ff0b5b', '#a2f634'])\n",
    "plt.xlabel(\"Models\")\n",
    "plt.ylabel(\"F1 Scores\")\n",
    "plt.savefig('fig1.png')"
   ]
  }
 ],
 "metadata": {
  "kernelspec": {
   "display_name": "Python 3",
   "language": "python",
   "name": "python3"
  },
  "language_info": {
   "codemirror_mode": {
    "name": "ipython",
    "version": 3
   },
   "file_extension": ".py",
   "mimetype": "text/x-python",
   "name": "python",
   "nbconvert_exporter": "python",
   "pygments_lexer": "ipython3",
   "version": "3.7.4"
  }
 },
 "nbformat": 4,
 "nbformat_minor": 2
}
